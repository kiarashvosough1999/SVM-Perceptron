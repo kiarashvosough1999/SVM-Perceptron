{
  "nbformat": 4,
  "nbformat_minor": 0,
  "metadata": {
    "colab": {
      "name": "SVM-Perceptron.ipynb",
      "provenance": [],
      "collapsed_sections": [
        "MwUI6ITmxfZ-",
        "51jSWMl1-Nfu",
        "giALlZlExlY3",
        "-pQhWflQxriF",
        "edd_KxJ61P7S",
        "gvi4Bd2A55A0"
      ],
      "toc_visible": true
    },
    "kernelspec": {
      "name": "python3",
      "display_name": "Python 3"
    },
    "language_info": {
      "name": "python"
    }
  },
  "cells": [
    {
      "cell_type": "markdown",
      "source": [
        "# Config Environment"
      ],
      "metadata": {
        "id": "MwUI6ITmxfZ-"
      }
    },
    {
      "cell_type": "code",
      "source": [
        "import pandas as pd\n",
        "from sklearn.decomposition import PCA\n",
        "import time\n",
        "import numpy as np\n",
        "import matplotlib.pyplot as plt\n",
        "from sklearn.linear_model import Perceptron\n",
        "from sklearn.metrics.cluster import rand_score\n",
        "from sklearn.metrics import adjusted_rand_score\n",
        "from sklearn.metrics import accuracy_score\n",
        "from sklearn.model_selection import GridSearchCV\n",
        "from sklearn.model_selection import RepeatedStratifiedKFold\n",
        "from sklearn.svm import SVC, LinearSVC"
      ],
      "metadata": {
        "id": "IUGygnS51deE"
      },
      "execution_count": null,
      "outputs": []
    },
    {
      "cell_type": "markdown",
      "source": [
        "# Normalizer\n",
        "\n",
        "Normalize non-float numbers and remove NAN or Inf values and replace them with zero.\n",
        "\n",
        "due to the small number of NANS we could also drop them"
      ],
      "metadata": {
        "id": "51jSWMl1-Nfu"
      }
    },
    {
      "cell_type": "markdown",
      "source": [
        "Class to help normalize data\n"
      ],
      "metadata": {
        "id": "0pSpKXb0iQ95"
      }
    },
    {
      "cell_type": "code",
      "source": [
        "class DataNormalizer:\n",
        "\n",
        "  def __init__(self,raw_data):\n",
        "    self.raw_data = raw_data\n",
        "\n",
        "  def normalize_raw_data(self, print_stats=False):\n",
        "\n",
        "    available_labels_values = list(set(self.raw_data.values[:,23]))\n",
        "    available_labels_values.sort()\n",
        "    available_lables_values = { val : index for index, val in enumerate(available_labels_values)}\n",
        "    if print_stats:\n",
        "      print(available_lables_values)\n",
        "\n",
        "    for key, dedicated_number in available_lables_values.items():\n",
        "      columns_name = self.raw_data.columns[23]\n",
        "      self.raw_data.loc[self.raw_data[columns_name] == key, columns_name] = dedicated_number\n",
        "\n",
        "    \n",
        "    available_gender_values = list(set(self.raw_data.values[:,1]))\n",
        "    available_gender_values.sort()\n",
        "    available_gender_values = { val : index for index, val in enumerate(available_gender_values)}\n",
        "    if print_stats:\n",
        "      print(available_gender_values)\n",
        "\n",
        "    for key, dedicated_number in available_gender_values.items():\n",
        "      columns_name = self.raw_data.columns[1]\n",
        "      self.raw_data.loc[self.raw_data[columns_name] == key, columns_name] = dedicated_number\n",
        "    \n",
        "    available_customer_type = list(set(self.raw_data.values[:,2]))\n",
        "    available_customer_type.sort()\n",
        "    available_customer_type = { val : index for index, val in enumerate(available_customer_type)}\n",
        "    if print_stats:\n",
        "      print(available_customer_type)\n",
        "\n",
        "    for key, dedicated_number in available_customer_type.items():\n",
        "      columns_name = self.raw_data.columns[2]\n",
        "      self.raw_data.loc[self.raw_data[columns_name] == key, columns_name] = dedicated_number\n",
        "    \n",
        "    available_type_of_travel = list(set(self.raw_data.values[:,4]))\n",
        "    available_type_of_travel.sort()\n",
        "    available_type_of_travel = { val : index for index, val in enumerate(available_type_of_travel)}\n",
        "    if print_stats:\n",
        "      print(available_type_of_travel)\n",
        "\n",
        "    for key, dedicated_number in available_type_of_travel.items():\n",
        "      columns_name = self.raw_data.columns[4]\n",
        "      self.raw_data.loc[self.raw_data[columns_name] == key, columns_name] = dedicated_number\n",
        "    \n",
        "    available_classes = list(set(self.raw_data.values[:,5]))\n",
        "    available_classes.sort()\n",
        "    available_classes = { val : index for index, val in enumerate(available_classes)}\n",
        "    if print_stats:\n",
        "      print(available_classes)\n",
        "\n",
        "    for key, dedicated_number in available_classes.items():\n",
        "      columns_name = self.raw_data.columns[5]\n",
        "      self.raw_data.loc[self.raw_data[columns_name] == key, columns_name] = dedicated_number\n",
        "    \n",
        "    self.raw_data.replace([np.inf, -np.inf], np.nan, inplace=True)\n",
        "    return self.raw_data.dropna()"
      ],
      "metadata": {
        "id": "u6jhuxWY5qXs"
      },
      "execution_count": null,
      "outputs": []
    },
    {
      "cell_type": "markdown",
      "source": [
        "# Load Data\n",
        "\n",
        "Load Dataframe from csv files and provide needed data for models"
      ],
      "metadata": {
        "id": "giALlZlExlY3"
      }
    },
    {
      "cell_type": "markdown",
      "source": [
        "Class to help extract features and labels from loaded data"
      ],
      "metadata": {
        "id": "tAFLLurFFZS_"
      }
    },
    {
      "cell_type": "code",
      "source": [
        "class DataLoader:\n",
        "\n",
        "  def __init__(self):\n",
        "    self.raw_data_filePath = '/content/drive/MyDrive/AI/SVM-Perceptron/data/train.csv'\n",
        "    self.test_data_filePath = '/content/drive/MyDrive/AI/SVM-Perceptron/data/test.csv'\n",
        "    self.raw_data = None\n",
        "    self.test_data = None\n",
        "    self.normalized_raw_data = None\n",
        "    self.normalized_raw_test_data = None\n",
        "    self.train_data_features = None\n",
        "    self.train_data_labels = None\n",
        "    self.test_data_features = None\n",
        "    self.test_data_labels = None\n",
        "\n",
        "  # Load Raw Data from CSV , Replace Infinity with NAN, and replace every NAN with zero for Raw Data with Normalizer\n",
        "\n",
        "  def load_raw_data(self):\n",
        "    if not self.raw_data:\n",
        "      self.raw_data = pd.read_csv(self.raw_data_filePath)\n",
        "      self.raw_data = self.raw_data.drop(self.raw_data.columns[[0]], axis=1) \n",
        "      normalizer = DataNormalizer(self.raw_data)\n",
        "      self.raw_data = normalizer.normalize_raw_data()\n",
        "    print('Raw Data Shape: ', self.raw_data.shape)\n",
        "    return self.raw_data\n",
        "  \n",
        "  def load_test_data(self):\n",
        "    if not self.test_data:\n",
        "      self.test_data = pd.read_csv(self.test_data_filePath)\n",
        "      self.test_data = self.test_data.drop(self.test_data.columns[[0]], axis=1)\n",
        "      normalizer = DataNormalizer(self.test_data)\n",
        "      self.test_data = normalizer.normalize_raw_data() \n",
        "    print('Test Data Shape: ', self.test_data.shape)\n",
        "    return self.test_data\n",
        "\n",
        "  def load_train_data_features(self):\n",
        "    if not self.train_data_features:\n",
        "      self.train_data_features = self.raw_data.values[:, 1:23].astype('float32')\n",
        "      print('Train Data Shape', self.train_data_features.shape)\n",
        "      return self.train_data_features\n",
        "\n",
        "  def load_train_data_labels(self):\n",
        "    if not self.train_data_labels:\n",
        "      self.train_data_labels = self.raw_data.values[:, 23].astype('float32')\n",
        "      print('Train Data Labels Shape', self.train_data_labels.shape)\n",
        "      return self.train_data_labels\n",
        "\n",
        "  def load_test_data_features(self):\n",
        "    if not self.test_data_features:\n",
        "      self.test_data_features = test_data.values[:, 1:23].astype('float32')\n",
        "      print('Test Data Shape', self.test_data_features.shape)\n",
        "      return self.test_data_features\n",
        "\n",
        "  def load_test_data_labels(self):\n",
        "    if not self.test_data_labels:\n",
        "      self.test_data_labels = test_data.values[:, 23].astype('float32')\n",
        "      print('Test Data Labels Shape', self.test_data_labels.shape)\n",
        "      return self.test_data_labels"
      ],
      "metadata": {
        "id": "ykjtQBmp5LY9"
      },
      "execution_count": null,
      "outputs": []
    },
    {
      "cell_type": "code",
      "source": [
        "loader = DataLoader()"
      ],
      "metadata": {
        "id": "A8l9hCSU9Wrf"
      },
      "execution_count": null,
      "outputs": []
    },
    {
      "cell_type": "code",
      "source": [
        "raw_data = loader.load_raw_data()\n",
        "test_data = loader.load_test_data()"
      ],
      "metadata": {
        "id": "DWov2wdu1eBN",
        "colab": {
          "base_uri": "https://localhost:8080/"
        },
        "outputId": "c26c8e7b-68cd-4a3e-ec99-d59844140d3a"
      },
      "execution_count": null,
      "outputs": [
        {
          "output_type": "stream",
          "name": "stdout",
          "text": [
            "Raw Data Shape:  (103594, 24)\n",
            "Test Data Shape:  (25893, 24)\n"
          ]
        }
      ]
    },
    {
      "cell_type": "markdown",
      "source": [
        "Load Raw Data without any normalization or manipulations"
      ],
      "metadata": {
        "id": "haqtM4zOhwXL"
      }
    },
    {
      "cell_type": "code",
      "source": [
        "train_data_features = loader.load_train_data_features()\n",
        "\n",
        "train_data_labels = loader.load_train_data_labels()"
      ],
      "metadata": {
        "id": "OWoBlr_sIEBN",
        "colab": {
          "base_uri": "https://localhost:8080/"
        },
        "outputId": "18fcb5de-f795-47a6-a0ad-7090dc2a57a9"
      },
      "execution_count": null,
      "outputs": [
        {
          "output_type": "stream",
          "name": "stdout",
          "text": [
            "Train Data Shape (103594, 22)\n",
            "Train Data Labels Shape (103594,)\n"
          ]
        }
      ]
    },
    {
      "cell_type": "markdown",
      "source": [
        "Load Normalized and preprocessed dataframe for train data"
      ],
      "metadata": {
        "id": "2NVaa6Q8iPg4"
      }
    },
    {
      "cell_type": "code",
      "source": [
        "test_data_features = loader.load_test_data_features()\n",
        "\n",
        "test_data_labels = loader.load_test_data_labels()"
      ],
      "metadata": {
        "id": "VSTmQSLuIFE7",
        "colab": {
          "base_uri": "https://localhost:8080/"
        },
        "outputId": "64ec52ed-f8fc-42f2-9683-60c643ab50e4"
      },
      "execution_count": null,
      "outputs": [
        {
          "output_type": "stream",
          "name": "stdout",
          "text": [
            "Test Data Shape (25893, 22)\n",
            "Test Data Labels Shape (25893,)\n"
          ]
        }
      ]
    },
    {
      "cell_type": "markdown",
      "source": [
        "Load Normalized and preprocessed dataframe for test data"
      ],
      "metadata": {
        "id": "YXug6zk_jM0l"
      }
    },
    {
      "cell_type": "markdown",
      "source": [
        "# Perceptron\n",
        "\n",
        "Test perceptron models with different hyperparam and analysis the result"
      ],
      "metadata": {
        "id": "-pQhWflQxriF"
      }
    },
    {
      "cell_type": "code",
      "source": [
        "class PerceptronTest:\n",
        "\n",
        "  def __init__(self, train_data_features, train_data_labels):\n",
        "    self.perceptron_model = None\n",
        "    self.train_data_features = train_data_features\n",
        "    self.train_data_labels = train_data_labels\n",
        "  \n",
        "  def simple_test(self, test_data_features, test_data_labels):\n",
        "    self.perceptron_model = Perceptron(random_state=1)\n",
        "    self.perceptron_model.fit(self.train_data_features, self.train_data_labels)\n",
        "    print(f\"Perceptron model score: { self.perceptron_model.score(self.train_data_features, self.train_data_labels) * 100}\")\n",
        "\n",
        "    predicted_labels = np.array(self.perceptron_model.predict(test_data_features))\n",
        "    print('rand score of perdiction', rand_score(test_data_labels, predicted_labels) * 100)\n",
        "    print('accuracy of perdiction', accuracy_score(test_data_labels, predicted_labels, normalize=False))\n",
        "\n",
        "  def test_best(self, eta, maxIt, test_data_features, test_data_labels):\n",
        "    self.perceptron_model = Perceptron(random_state=20, eta0=0.01, max_iter=maxIt)\n",
        "    self.perceptron_model.fit(self.train_data_features, self.train_data_labels)\n",
        "    print(f\"Perceptron model score: { self.perceptron_model.score(self.train_data_features, self.train_data_labels) * 100}\")\n",
        "\n",
        "    predicted_labels = np.array(self.perceptron_model.predict(test_data_features))\n",
        "    print('rand score of perdiction', rand_score(test_data_labels, predicted_labels) * 100)\n",
        "    print('accuracy of perdiction', accuracy_score(test_data_labels, predicted_labels, normalize=False))\n",
        "\n",
        "  \n",
        "  def learning_rate_test(self, grid=None):\n",
        "    perceptron_model = Perceptron(random_state=20)\n",
        "    \n",
        "    cv = RepeatedStratifiedKFold(n_splits=10, n_repeats=3, random_state=1)\n",
        "\n",
        "    if not grid:\n",
        "      grid = dict()\n",
        "      grid['eta0'] = [0.0001, 0.001, 0.01, 0.1, 5.0]\n",
        "\n",
        "    search = GridSearchCV(perceptron_model, grid, scoring='accuracy', cv=cv, n_jobs=-1)\n",
        "\n",
        "    results = search.fit(self.train_data_features, self.train_data_labels)\n",
        "\n",
        "    print('Mean Accuracy: %.3f' % results.best_score_)\n",
        "    print('Best Learning Rate: %s' % results.best_params_)\n",
        "\n",
        "    means = results.cv_results_['mean_test_score']\n",
        "    params = list(map(lambda dic : dic['eta0'], results.cv_results_['params']))\n",
        "\n",
        "    plt.plot(params, means)\n",
        "    plt.suptitle('Learning Rate On Score')\n",
        "    plt.ylabel(\"Mean Test Score\")\n",
        "    plt.xlabel(\"Learning Rate\")\n",
        "    plt.show()\n",
        "  \n",
        "  def iteration_test(self, grid=None):\n",
        "\n",
        "    perceptron_model = Perceptron(eta0=0.01)\n",
        "\n",
        "    cv = RepeatedStratifiedKFold(n_splits=10, n_repeats=3, random_state=1)\n",
        "\n",
        "    if not grid:\n",
        "      grid = dict()\n",
        "      grid['max_iter'] = [1, 10, 100, 1000, 10000]\n",
        "\n",
        "    search = GridSearchCV(perceptron_model, grid, scoring='accuracy', cv=cv, n_jobs=-1)\n",
        "\n",
        "    results = search.fit(train_data_features, train_data_labels)\n",
        "\n",
        "    print('Mean Accuracy: %.3f' % results.best_score_)\n",
        "    print('Best IterationCount: %s' % results.best_params_)\n",
        "\n",
        "    means = results.cv_results_['mean_test_score']\n",
        "    params = list(map(lambda dic : dic['max_iter'], results.cv_results_['params']))\n",
        "\n",
        "    plt.plot(params, means)\n",
        "    plt.suptitle('Iteration Rate On Score')\n",
        "    plt.ylabel(\"Mean Test Score\")\n",
        "    plt.xlabel(\"Iteration\")\n",
        "    plt.show()\n",
        "\n"
      ],
      "metadata": {
        "id": "xyClDluVtiB4"
      },
      "execution_count": null,
      "outputs": []
    },
    {
      "cell_type": "code",
      "source": [
        "perceptron_test = PerceptronTest(train_data_features, train_data_labels)"
      ],
      "metadata": {
        "id": "8jzrfpv6yFud"
      },
      "execution_count": null,
      "outputs": []
    },
    {
      "cell_type": "code",
      "source": [
        "perceptron_test.simple_test(test_data_features, test_data_labels)"
      ],
      "metadata": {
        "id": "05aGGewQyHpV",
        "colab": {
          "base_uri": "https://localhost:8080/"
        },
        "outputId": "5e906a2b-cb6c-4499-a245-1d9c91c85a17"
      },
      "execution_count": null,
      "outputs": [
        {
          "output_type": "stream",
          "name": "stdout",
          "text": [
            "Perceptron model score: 78.36168117844663\n",
            "rand score of perdiction 66.05052418690428\n",
            "accuracy of perdiction 20282\n"
          ]
        }
      ]
    },
    {
      "cell_type": "code",
      "source": [
        "perceptron_test.learning_rate_test()"
      ],
      "metadata": {
        "id": "pW8TrqtHv7ZR",
        "colab": {
          "base_uri": "https://localhost:8080/",
          "height": 342
        },
        "outputId": "b859b2b5-0f1e-4129-c8e6-2bfae3f5e025"
      },
      "execution_count": null,
      "outputs": [
        {
          "output_type": "stream",
          "name": "stdout",
          "text": [
            "Mean Accuracy: 0.686\n",
            "Best Learning Rate: {'eta0': 0.1}\n"
          ]
        },
        {
          "output_type": "display_data",
          "data": {
            "text/plain": [
              "<Figure size 432x288 with 1 Axes>"
            ],
            "image/png": "[encoded data removed]"
          },
          "metadata": {
            "needs_background": "light"
          }
        }
      ]
    },
    {
      "cell_type": "markdown",
      "source": [
        "The hyperparameters for the Perceptron algorithm must be configured for our dataset.\n",
        "\n",
        "Perhaps the most important hyperparameter is the learning rate.\n",
        "\n",
        "A large learning rate can cause the model to learn fast, but perhaps at the cost of lower skill. A smaller learning rate can result in a better-performing model but may take a long time to train the model."
      ],
      "metadata": {
        "id": "Ky8ucST9r3xr"
      }
    },
    {
      "cell_type": "code",
      "source": [
        "perceptron_test.iteration_test()"
      ],
      "metadata": {
        "id": "8QN343Mmy9Au",
        "colab": {
          "base_uri": "https://localhost:8080/",
          "height": 342
        },
        "outputId": "314e279b-3214-4872-8741-92b69c0319f3"
      },
      "execution_count": null,
      "outputs": [
        {
          "output_type": "stream",
          "name": "stdout",
          "text": [
            "Mean Accuracy: 0.675\n",
            "Best IterationCount: {'max_iter': 100}\n"
          ]
        },
        {
          "output_type": "display_data",
          "data": {
            "text/plain": [
              "<Figure size 432x288 with 1 Axes>"
            ],
            "image/png": "[encoded data removed]"
          },
          "metadata": {
            "needs_background": "light"
          }
        }
      ]
    },
    {
      "cell_type": "markdown",
      "source": [
        "Another important hyperparameter is how many epochs are used to train the model.\n",
        "\n",
        "This may depend on the training dataset and could vary greatly. Again, we will explore configuration values on a log scale between 1 and 1e+4."
      ],
      "metadata": {
        "id": "ZGuje5dDtXdl"
      }
    },
    {
      "cell_type": "code",
      "source": [
        "perceptron_test.test_best(0.1, 100, test_data_features, test_data_labels)"
      ],
      "metadata": {
        "colab": {
          "base_uri": "https://localhost:8080/"
        },
        "id": "alPKwEG5ooQq",
        "outputId": "b5898166-7067-43f4-db7b-a67dcb37e386"
      },
      "execution_count": null,
      "outputs": [
        {
          "output_type": "stream",
          "name": "stdout",
          "text": [
            "Perceptron model score: 72.78799930497905\n",
            "rand score of perdiction 60.546912963520526\n",
            "accuracy of perdiction 18893\n"
          ]
        }
      ]
    },
    {
      "cell_type": "markdown",
      "source": [
        "Final result for Perceptron with the best hyperparams"
      ],
      "metadata": {
        "id": "wqaesNB0q-UI"
      }
    },
    {
      "cell_type": "markdown",
      "source": [
        "# SVM Test\n",
        "\n",
        "class for testing different kinds of svm in sklearn\n",
        "\n"
      ],
      "metadata": {
        "id": "zLJqsyjU0vKt"
      }
    },
    {
      "cell_type": "code",
      "source": [
        "class SVMTest:\n",
        "\n",
        "  def __init__(self, svm_model, train_data_features, train_data_labels):\n",
        "    self.svm_model = svm_model\n",
        "    self.train_data_features = train_data_features\n",
        "    self.train_data_labels = train_data_labels\n",
        "\n",
        "  def test_svm(self, test_data_features, test_data_labels):\n",
        "    start = time.time()\n",
        "    # fit model\n",
        "    self.svm_model.fit(self.train_data_features, self.train_data_labels)\n",
        "\n",
        "    # Predict traint model\n",
        "    train_predict = self.svm_model.predict(self.train_data_features)\n",
        "    \n",
        "    train_purity = accuracy_score(train_predict, self.train_data_labels)\n",
        "\n",
        "    train_rand_index = adjusted_rand_score(train_predict, self.train_data_labels)\n",
        "\n",
        "    # Predict Test\n",
        "    test_predict = self.svm_model.predict(test_data_features)\n",
        "\n",
        "    test_purity = accuracy_score(test_predict, test_data_labels)\n",
        "\n",
        "    test_rand_index = adjusted_rand_score(test_predict, test_data_labels)\n",
        "\n",
        "    print(f'Train Data Accuracy : {round(train_purity * 100, 2)}%')\n",
        "    print(f'Train Data Rand-Index : {round(train_rand_index * 100, 2)}%')\n",
        "    print(f'Test Data Accuracy : {round(test_purity * 100, 2)}%')\n",
        "    print(f'Test Data Rand-Index : {round(test_rand_index * 100, 2)}%')\n",
        "    print('Time Taken(s): ', time.time() - start)\n",
        "\n",
        "    return train_purity, train_rand_index, test_purity, test_rand_index\n"
      ],
      "metadata": {
        "id": "-W43KKq81Yux"
      },
      "execution_count": null,
      "outputs": []
    },
    {
      "cell_type": "markdown",
      "source": [
        "# SVC vs LinearSVC\n",
        "SVC has multiple kernels which allows us to classify non-linear data. <br>\n",
        "the simplest kernel is the linear kernel. according to the documentation for the `SVC` on `sklearn` website, \n",
        "> *The fit time scales at least quadratically with the number of samples and may be impractical beyond tens of thousands of samples. For large datasets consider using LinearSVC* <br>\n",
        "\n",
        "And since we are working on a dataset with 100 thousand data with 22 dimension, it would take a lot of time for fitting our dataset with the normal `SVC` class. <br>\n",
        "But we have to consider that the `LinearSVC` class is just for the linear kernel, so for other kernels we have to use the `SVC` class."
      ],
      "metadata": {
        "id": "edd_KxJ61P7S"
      }
    },
    {
      "cell_type": "code",
      "source": [
        "linear_kerner_svm = SVMTest(SVC(kernel='linear'), train_data_features, train_data_labels)\n",
        "linear_kerner_svm.test_svm(test_data_features, test_data_labels)"
      ],
      "metadata": {
        "id": "u8-Ll_cl45VV"
      },
      "execution_count": null,
      "outputs": []
    },
    {
      "cell_type": "code",
      "source": [
        "linear_kerner_svm = SVMTest(LinearSVC(), train_data_features, train_data_labels)\n",
        "linear_kerner_svm.test_svm(test_data_features, test_data_labels)"
      ],
      "metadata": {
        "colab": {
          "base_uri": "https://localhost:8080/"
        },
        "id": "ghCV5HYM5il-",
        "outputId": "0b2a312c-c3a6-4172-af97-ae4e0a9d554b"
      },
      "execution_count": null,
      "outputs": [
        {
          "output_type": "stream",
          "name": "stdout",
          "text": [
            "Train Data Purity : 49.08%\n",
            "Train Data Rand-Index : -1.31%\n",
            "Test Data Purity : 49.52%\n",
            "Test Data Rand-Index : -1.12%\n",
            "Time Taken(s):  406.74503445625305\n"
          ]
        },
        {
          "output_type": "stream",
          "name": "stderr",
          "text": [
            "/usr/local/lib/python3.7/dist-packages/sklearn/svm/_base.py:1208: ConvergenceWarning: Liblinear failed to converge, increase the number of iterations.\n",
            "  ConvergenceWarning,\n"
          ]
        },
        {
          "output_type": "execute_result",
          "data": {
            "text/plain": [
              "(0.490810278587563,\n",
              " -0.01307423950859963,\n",
              " 0.4952303711427799,\n",
              " -0.011220777246988297)"
            ]
          },
          "metadata": {},
          "execution_count": 46
        }
      ]
    },
    {
      "cell_type": "markdown",
      "source": [
        "In the above code I used both the `SVC` class with linear kernel and the `LinearSVC`. <br>\n",
        "The execution time for the normal `SVC` is over 5 hour, but the `LinearSVC` has only taken 5 minutes with 10,000 iteration to execute. <br>\n",
        "Although the accuracy of the `SVC` class is better, but it is not as much different as the execution time, and we are sure that if we improve the accuracy of `LinearSVC`, by using the same parameters we will also improve the `SVC` model too. <br>\n",
        "Therefore I chose the `LinearSVC` model for the following codes. But as soon as we are done the linear kernel, we will switch back to the `SVC` class. <br>\n",
        "And also the `LinearSVC` uses the one-vs-all technique and unfortunately it can not be changed, so I used the normal `SVC` for testing this parameter."
      ],
      "metadata": {
        "id": "Y26v1Icl54TA"
      }
    },
    {
      "cell_type": "markdown",
      "source": [
        "# LinearSVC"
      ],
      "metadata": {
        "id": "gvi4Bd2A55A0"
      }
    },
    {
      "cell_type": "code",
      "source": [
        "duals = [True, False]\n",
        "\n",
        "for dual in duals:\n",
        "    linear_kerner_svm = SVMTest(LinearSVC(dual=dual), train_data_features, train_data_labels)\n",
        "    print('dual: ', dual)\n",
        "    linear_kerner_svm.test_svm(test_data_features, test_data_labels)\n",
        "    print(' ')"
      ],
      "metadata": {
        "colab": {
          "base_uri": "https://localhost:8080/"
        },
        "id": "N0MpTpmF58am",
        "outputId": "59bc681e-b894-48be-f1bf-2494a21462ad"
      },
      "execution_count": null,
      "outputs": [
        {
          "output_type": "stream",
          "name": "stdout",
          "text": [
            "dual:  True\n"
          ]
        },
        {
          "output_type": "stream",
          "name": "stderr",
          "text": [
            "/usr/local/lib/python3.7/dist-packages/sklearn/svm/_base.py:1208: ConvergenceWarning: Liblinear failed to converge, increase the number of iterations.\n",
            "  ConvergenceWarning,\n"
          ]
        },
        {
          "output_type": "stream",
          "name": "stdout",
          "text": [
            "Train Data Accuracy : 64.99%\n",
            "Test Data Accuracy : 64.25%\n",
            "Time Taken(s):  43.76734662055969\n",
            " \n",
            "dual:  False\n",
            "Train Data Accuracy : 87.39%\n",
            "Test Data Accuracy : 86.99%\n",
            "Time Taken(s):  3.1868669986724854\n",
            " \n"
          ]
        }
      ]
    },
    {
      "cell_type": "markdown",
      "source": [
        "The first parameter that I test is the `dual` parameter. <br>\n",
        "The duality optimization is a theory which divide the solution of a problem into a *'dual*' solution and a *'primal'* solution. <br>\n",
        "The primal solution is the main and more complete solution which will also take longer time, but the dual solution is a solution which is one step before the main solution. <br> \n",
        "The properties of dual solution is that its answer is too much close to the main solution, even sometimes better, and it will also produce the answer in a much slower time. <br>\n",
        "According to the documentation of the `sklearn`:\n",
        "> Select the algorithm to either solve the dual or primal optimization problem. Prefer `dual=False` when `n_samples > n_features`.\n",
        "\n",
        "`n_samples` means the number of samples of our train dataset, which is 100 thousand and the `n_features` means the dimension of our data, which is 22. <br>\n",
        "So `sklearn` suggests us to set `dual=False` for our problem, and also according to the code above, the `dual=False` has a slightly more accurate answer."
      ],
      "metadata": {
        "id": "NGWrHWO17HZv"
      }
    },
    {
      "cell_type": "code",
      "source": [
        "coeffs = [0.05, 0.1, 0.2, 0.3, 0.4, 0.5, 1, 1.5, 2]\n",
        "train_purities = []\n",
        "train_rand_indexes = []\n",
        "test_purities = []\n",
        "test_rand_indexes = []\n",
        "\n",
        "for c in coeffs :\n",
        "    linear_kerner_svm = SVMTest(LinearSVC(dual=False, C=c), train_data_features, train_data_labels)\n",
        "\n",
        "    train_purity, train_rand_index, test_purity, test_rand_index = linear_kerner_svm.test_svm(test_data_features, test_data_labels)\n",
        "    train_purities.append(train_purity)\n",
        "    train_rand_indexes.append(train_rand_index)\n",
        "    test_purities.append(test_purity)\n",
        "    test_rand_indexes.append(test_rand_index)\n",
        "    print()\n",
        "\n",
        "plt.plot(coeffs, train_rand_indexes)\n",
        "plt.suptitle('C on Train Rand-Index')\n",
        "plt.show()\n",
        "plt.plot(coeffs, train_purities, 'tab:orange')\n",
        "plt.suptitle('C on Train Purity')\n",
        "plt.show()\n",
        "plt.plot(coeffs, test_rand_indexes, 'tab:green')\n",
        "plt.suptitle('C on Test Rand-Index')\n",
        "plt.show()\n",
        "plt.plot(coeffs, test_purities, 'tab:red')\n",
        "plt.suptitle('C on Test Purity')\n",
        "plt.show()"
      ],
      "metadata": {
        "colab": {
          "base_uri": "https://localhost:8080/",
          "height": 1000
        },
        "id": "RmlT-S5_7IJV",
        "outputId": "5cf53ec6-2a56-489b-80ea-1bc90cd99d60"
      },
      "execution_count": null,
      "outputs": [
        {
          "output_type": "stream",
          "name": "stdout",
          "text": [
            "Train Data Accuracy : 87.47%\n",
            "Test Data Accuracy : 87.1%\n",
            "Time Taken(s):  2.923678159713745\n",
            "\n",
            "Train Data Accuracy : 87.48%\n",
            "Test Data Accuracy : 87.13%\n",
            "Time Taken(s):  3.415372133255005\n",
            "\n",
            "Train Data Accuracy : 87.47%\n",
            "Test Data Accuracy : 87.12%\n",
            "Time Taken(s):  3.5073723793029785\n",
            "\n",
            "Train Data Accuracy : 87.48%\n",
            "Test Data Accuracy : 87.12%\n",
            "Time Taken(s):  3.3485043048858643\n",
            "\n",
            "Train Data Accuracy : 87.48%\n",
            "Test Data Accuracy : 87.12%\n",
            "Time Taken(s):  3.4395785331726074\n",
            "\n",
            "Train Data Accuracy : 87.47%\n",
            "Test Data Accuracy : 87.09%\n",
            "Time Taken(s):  3.3101449012756348\n",
            "\n",
            "Train Data Accuracy : 87.39%\n",
            "Test Data Accuracy : 86.99%\n",
            "Time Taken(s):  3.2212650775909424\n",
            "\n",
            "Train Data Accuracy : 87.47%\n",
            "Test Data Accuracy : 87.11%\n",
            "Time Taken(s):  3.402167797088623\n",
            "\n",
            "Train Data Accuracy : 87.48%\n",
            "Test Data Accuracy : 87.11%\n",
            "Time Taken(s):  3.3236005306243896\n",
            "\n"
          ]
        },
        {
          "output_type": "display_data",
          "data": {
            "text/plain": [
              "<Figure size 432x288 with 1 Axes>"
            ],
            "image/png": "[encoded data removed]"
          },
          "metadata": {
            "needs_background": "light"
          }
        },
        {
          "output_type": "display_data",
          "data": {
            "text/plain": [
              "<Figure size 432x288 with 1 Axes>"
            ],
            "image/png": "[encoded data removed]"
          },
          "metadata": {
            "needs_background": "light"
          }
        },
        {
          "output_type": "display_data",
          "data": {
            "text/plain": [
              "<Figure size 432x288 with 1 Axes>"
            ],
            "image/png": "[encoded data removed]"
          },
          "metadata": {
            "needs_background": "light"
          }
        },
        {
          "output_type": "display_data",
          "data": {
            "text/plain": [
              "<Figure size 432x288 with 1 Axes>"
            ],
            "image/png": "[encoded data removed]"
          },
          "metadata": {
            "needs_background": "light"
          }
        }
      ]
    },
    {
      "cell_type": "markdown",
      "source": [
        "The above code shows the effect of `C` parameter on accuracy. <br>\n",
        "Parameter `C` can be viewed as a way to control overfitting. It trades off the relative importance of maximizing the margin and fitting the training data. <br>\n",
        "It is for controlling the effect of slack variables. slack variables are defined for measuring the misclassification of difficult or noisy examples. <br>\n",
        "As you can see in the plots, by increasing this value, we will have a better accuracy for our training data, but less accuracy for test data. <br>\n",
        "This behaviour was expected, because we are allowing more slack variables and noises to our fitting process, which will lead to less accuracy for external data. ( data which are not in the train dataset) <br>\n",
        "According to the plots the best value for this parameter is 1.5. <br>"
      ],
      "metadata": {
        "id": "7W-TBIfX7ohD"
      }
    },
    {
      "cell_type": "markdown",
      "source": [
        "# SVC\n",
        "Up to now all our codes have used the `LinearSVC` class and we have figured out that the best parameters are `C=0.4` and `dual=False`. <br>\n",
        "These values will also have the best effect on the normal `SVC`, because they are the same but with different implementation. <br>\n",
        "As I said, and just like the documentations said, the execution time of `SVC` for our full dataset will be too much, therefore I chose 10% of data randomly and work with them, we can use the result for the whole dataset and get better accuracy. <br>"
      ],
      "metadata": {
        "id": "8_8ippaH7wnA"
      }
    },
    {
      "cell_type": "code",
      "source": [
        "seq = np.random.randint(0,103594,10000)\n",
        "X_train_sample = train_data_features[seq]\n",
        "y_train_sample = train_data_labels[seq]\n",
        "\n",
        "print(X_train_sample.shape)\n",
        "print(y_train_sample.shape)\n",
        "\n",
        "seq = np.random.randint(0,25893,5000)\n",
        "X_test_sample = test_data_features[seq]\n",
        "y_test_sample = test_data_labels[seq]\n",
        "\n",
        "print(X_test_sample.shape)\n",
        "print(y_test_sample.shape)\n",
        "\n",
        "fig, ax = plt.subplots(1,2, figsize=(10,4))\n",
        "ax[0].hist(y_train_sample)\n",
        "ax[0].title.set_text('sample')\n",
        "ax[1].hist(train_data_labels)\n",
        "ax[1].title.set_text('original')\n",
        "fig.show\n",
        "plt.show()"
      ],
      "metadata": {
        "colab": {
          "base_uri": "https://localhost:8080/",
          "height": 349
        },
        "id": "rU3yWXXd7yQM",
        "outputId": "3623892e-4791-436a-9c08-6f01e7f7d08a"
      },
      "execution_count": null,
      "outputs": [
        {
          "output_type": "stream",
          "name": "stdout",
          "text": [
            "(10000, 22)\n",
            "(10000,)\n",
            "(5000, 22)\n",
            "(5000,)\n"
          ]
        },
        {
          "output_type": "display_data",
          "data": {
            "text/plain": [
              "<Figure size 720x288 with 2 Axes>"
            ],
            "image/png": "[encoded data removed]"
          },
          "metadata": {
            "needs_background": "light"
          }
        }
      ]
    },
    {
      "cell_type": "markdown",
      "source": [
        "First thing to check is the belivabilty of our sample dataset. <br>\n",
        "In the code above, I chose 10% of datset randomly and shows the histogram of original and random dataset. we can see that they are somehow the same and it means that we can count on the result and improvments that we apply to the random dataset."
      ],
      "metadata": {
        "id": "gIx4oE2a82dI"
      }
    },
    {
      "cell_type": "code",
      "source": [
        "kernels = ['poly', 'rbf', 'sigmoid', 'linear']\n",
        "train_purities = []\n",
        "train_rand_indexes = []\n",
        "test_purities = []\n",
        "test_rand_indexes = []\n",
        "\n",
        "def show_bar_chart(x, y, title, color):\n",
        "    fig = plt.figure()\n",
        "    ax = fig.add_axes([0,0,1,1])\n",
        "    ax.title.set_text(title)\n",
        "    ax.bar(x, y, color=color, width=0.3)\n",
        "    plt.show()\n",
        "\n",
        "for kernel in kernels:\n",
        "    svm = SVC(kernel=kernel)\n",
        "\n",
        "    svm_test = SVMTest(svm, X_train_sample, y_train_sample)\n",
        "    train_purity, train_rand_index, test_purity, test_rand_index = svm_test.test_svm(X_test_sample, y_test_sample)\n",
        "\n",
        "    train_purities.append(train_purity)\n",
        "    train_rand_indexes.append(train_rand_index)\n",
        "    test_purities.append(test_purity)\n",
        "    test_rand_indexes.append(test_rand_index)\n",
        "    print()\n",
        "\n",
        "\n",
        "show_bar_chart(kernels, train_purities,'Train purities', 'tab:blue')\n",
        "show_bar_chart(kernels, train_rand_indexes, 'Train rand indexes', 'tab:olive')\n",
        "show_bar_chart(kernels, test_purities, 'Test purities', 'tab:pink')\n",
        "show_bar_chart(kernels, test_rand_indexes, 'Test rand indexes', 'tab:purple')"
      ],
      "metadata": {
        "id": "Kj3_V81Z_RxG",
        "colab": {
          "base_uri": "https://localhost:8080/"
        },
        "outputId": "48a253ac-e9ba-440f-8cb8-f3d63f889e31"
      },
      "execution_count": null,
      "outputs": [
        {
          "output_type": "stream",
          "name": "stdout",
          "text": [
            "Train Data Purity : 65.33%\n",
            "Train Data Rand-Index : 8.68%\n",
            "Test Data Purity : 65.16%\n",
            "Test Data Rand-Index : 8.64%\n",
            "Time Taken(s):  10.125768423080444\n",
            "\n",
            "Train Data Purity : 65.82%\n",
            "Train Data Rand-Index : 9.71%\n",
            "Test Data Purity : 66.08%\n",
            "Test Data Rand-Index : 10.09%\n",
            "Time Taken(s):  16.03835105895996\n",
            "\n",
            "Train Data Purity : 44.4%\n",
            "Train Data Rand-Index : 1.21%\n",
            "Test Data Purity : 43.8%\n",
            "Test Data Rand-Index : 1.5%\n",
            "Time Taken(s):  11.410968542098999\n",
            "\n"
          ]
        }
      ]
    },
    {
      "cell_type": "markdown",
      "source": [
        "In this section I used the different kernels of `sklearn` and show their effect on accuracy. <br>\n",
        "As it is shown in the bar plots, for the train dataset the result of linear, polynomial and gaussian(rbf) is the same but the sigmoid kernel has lower accuracy. <br>\n",
        "But on the test data the difference of gaussian(rbf) kernel is observable and it has the best accuracy over other kernels. <br>\n",
        "As the rbf kernel was the best kernel, for following codes I used this kernel. \n",
        "> Important Note: the default parameter for `p` in polynomial kernel is 3 and default `gamma` for the rbf is `1 / (n_features * X.var())`"
      ],
      "metadata": {
        "id": "mKCVnnMu_YXN"
      }
    },
    {
      "cell_type": "code",
      "source": [
        "decision_function_shape = ['ovo', 'ovr']\n",
        "\n",
        "for dfs in decision_function_shape:\n",
        "    svm = SVC(kernel='rbf', decision_function_shape=dfs)\n",
        "    \n",
        "    print(dfs)\n",
        "    svm_test = SVMTest(svm, X_train_sample, y_train_sample)\n",
        "    train_purity, train_rand_index, test_purity, test_rand_index = svm_test.test_svm(test_data_features, test_data_labels)\n",
        "\n",
        "    print()"
      ],
      "metadata": {
        "colab": {
          "base_uri": "https://localhost:8080/"
        },
        "id": "3n8xL3gdRBmb",
        "outputId": "780bb649-0e3c-47b2-e634-dd4a62712b40"
      },
      "execution_count": null,
      "outputs": [
        {
          "output_type": "stream",
          "name": "stdout",
          "text": [
            "ovo\n",
            "Train Data Accuracy : 67.05%\n",
            "Train Data Rand-Index : 11.33%\n",
            "Test Data Accuracy : 66.29%\n",
            "Test Data Rand-Index : 10.39%\n",
            "Time Taken(s):  29.03925919532776\n",
            "\n",
            "ovr\n",
            "Train Data Accuracy : 67.05%\n",
            "Train Data Rand-Index : 11.33%\n",
            "Test Data Accuracy : 66.29%\n",
            "Test Data Rand-Index : 10.39%\n",
            "Time Taken(s):  27.55810809135437\n",
            "\n"
          ]
        }
      ]
    },
    {
      "cell_type": "markdown",
      "source": [
        "The default technique for multiclass classification used by `SVC` is one-vs-all or one-vs-rest. <br>\n",
        "In this code block I used both techniques and show the results of them. <br>\n",
        "As you can see they are the exact same and we can not say which one is better. So we keep using the default value which is one-vs-rest.  "
      ],
      "metadata": {
        "id": "Wfhy3CSHZLu_"
      }
    },
    {
      "cell_type": "code",
      "source": [
        "gammas = ['scale', 'auto']\n",
        "\n",
        "for gamma in gammas :\n",
        "    svm = SVC(kernel='rbf', gamma=gamma)\n",
        "    \n",
        "    print(gamma)\n",
        "    svm_test = SVMTest(svm, X_train_sample, y_train_sample)\n",
        "    train_purity, train_rand_index, test_purity, test_rand_index = svm_test.test_svm(test_data_features, test_data_labels)\n",
        "    print()"
      ],
      "metadata": {
        "colab": {
          "base_uri": "https://localhost:8080/"
        },
        "id": "htwYjl-FZMId",
        "outputId": "f6e3a99f-29d6-412c-c2dc-07e5f609bc97"
      },
      "execution_count": null,
      "outputs": [
        {
          "output_type": "stream",
          "name": "stdout",
          "text": [
            "scale\n",
            "Train Data Accuracy : 67.05%\n",
            "Train Data Rand-Index : 11.33%\n",
            "Test Data Accuracy : 66.29%\n",
            "Test Data Rand-Index : 10.39%\n",
            "Time Taken(s):  27.376111030578613\n",
            "\n",
            "auto\n",
            "Train Data Accuracy : 99.98%\n",
            "Train Data Rand-Index : 99.92%\n",
            "Test Data Accuracy : 62.01%\n",
            "Test Data Rand-Index : 4.84%\n",
            "Time Taken(s):  37.717819929122925\n",
            "\n"
          ]
        }
      ]
    },
    {
      "cell_type": "markdown",
      "source": [
        "The formual for rbf or gaussian kernel is below: <br>\n",
        "![image.png](data:image/png;base64,iVBORw0KGgoAAAANSUhEUgAAAGQAAABJCAYAAADL0IO8AAAFEElEQVR4nO2cP4zbVBzHvw8xcGNpc5WqOEyFSBUM2AJOV0TFkDgVElJVloRmuJPullwyZrS7JWOvt9xQBuixIiY4BgRiKEjJhCJCVTEkp0j0dL0xLPAYEjvx2Ukc2+/5OX0fyUri+N3PL1//3u/3/h2hlFJIhOGVuG9A4kQKIhhSEMGQggiGFEQwpCCMaDZ3UVAICCEgREPZNH2Vk4IwYvBjG7hjgFKKotrGV49+w26zubDcqxzu7aXkwXHLfn99U4ey/xzD4XBhOekhPLiUQsrnpbEKQghxvCaZuXU5PwXJ3cSXPuKI9BAOPHsKqB9f83WtjCGM2ctn0E1to1Wv+7peeghD9vIZfItP0XpswDTLyOdrC8tID2FESSP4ug0AByDkAIACvbq1sByJc/idEAJKqf2aZKKqi2yyBEMKIhhSEMEQSpCSZg3GjQbkbt/O2J8z+b3E2loGobKsoxYF7OwEuPLeFqr/PsH5xoavXq6otpaCxohlfvo2Go0dqqdBAdB0Ok2VXIWZ/ShtedUlCEI1WQBQrx/ig49UAMDJyVXc2rjsu6yzGfI4tFJktlghnCAA8NrbKvQ0ALTx05Mzz2vMWgEZojomfo5aFJTOOVpHgWw5bWZQqDFs0kL5V0gww83Nkko1TaMAKKDSe4bB7B6isjWrLssinIeYtQIedd/C3bvv2k+u12zbqHnyPzUaxhYwNSWrFHzN/AUmlJwhwYWnqqhi/KQqNJdTx+/HR1qnO42GXdao6lRRi4FtL2PLwiypMwP/xboERbi0193Ke3PW7WA9u83FlsXT7nPc2GQb+IVrsvzQbO7i2R9A6jK/AUnTLKPbTiF1ia2dRAoyHPTQwQ1krq3xM3p+ilM1y7zTmEhBzrod9Pvfo/37P1xtrmffZG5HqBjil4fHPTzkaM9uIrPsm8hEeggvTLMM7Q0dg8Ff6Kx/iO8esB/jkoLMYW1tDan/jrG/f45bn1znYlNO4UZEVHWJVRCJm8iarGVHWiXexOIhq7B0NAq8fvpY0l7ZSs5GZlmCIQXxIOjupyiQgngQdPdTFCRy6IQ1QXc/RYH0kEUssfspCqQgi1hi91MUJF4QZwAmIBGvCllm91MkhJoAjplGY4fqikL1qjH5nB7Nk1vnwlDJKVQtmaH/zjIk2kOGgx5wc8seFq/XD/H+HR0K+uh056+xWkSQ3U+RwFV+DhjGPaoCnk+2UdWpMr26xHFMvGqyIsX9HWtWT5CqThXFvYynklMcP2yjsUPzGbaL8IKwcoIUVffTbJZUz1WJlZxCEWJtFwsSHUMucv9zDX9mtx1Trc3mLn79uQ0lN2Obwd8vuPXC/bAygljLQluPDcf54aCHzgmwnrriKvPirA9cfR2HPveQ88C3IKZZhibopJNZK+CLb4DCZ+9MzhULc/sjZq2AX9oK9E0+c+W+WdSmTW9qsTKX6XMsN9T4YWbmNF6fa9/r1HpdqwzvPoYf5goyqaw7IFqpYZyCjIK1dxo7fV9WKjz5XrzsymKmIJNKuLMWL6+RRMNMQeZ5wCinh3Ap4yrgGdRHAQ8AVMe+O2sg7+CHPqAWPbeISULipZI9dDD2gOkmiucwwsuISxDnjz85ZKzgg2sKdzgc4vRk9F7JVdA75rnOXBKop27Fkjj/BcXK4uU208PPF7MsmWGxxVOQ+fMGMp6wxEfHcLa3SKJHbkcQjJUZfl8VpCCCIQURDCmIYEhBBEMKIhj/A8O+eVeiLk1lAAAAAElFTkSuQmCC) <br>\n",
        "It has a paramter called gamma. `sklearn` library gives us two choice for setting this parameter. <br>\n",
        "`scale` value, which is the default value, means `1 / (n_features * X.var())` and the `auto` value is `1 / n_features`. <br>\n",
        "As the result shows, `scale` value has better accuracy, which was expected because the `scale` method consider the value of each data, rather than just the number of features of dataser."
      ],
      "metadata": {
        "id": "rafaB5ANZyMg"
      }
    },
    {
      "cell_type": "code",
      "source": [
        "Cs = [1, 10, 100, 1000, 10000]\n",
        "train_purities = []\n",
        "train_rand_indexes = []\n",
        "test_purities = []\n",
        "test_rand_indexes = []\n",
        "\n",
        "for C in Cs :\n",
        "    svm = SVC(kernel='rbf', C=C)\n",
        "    \n",
        "    print(C)\n",
        "    svm_test = SVMTest(svm, X_train_sample, y_train_sample)\n",
        "    train_purity, train_rand_index, test_purity, test_rand_index = svm_test.test_svm(test_data_features, test_data_labels)\n",
        "    print()\n",
        "\n",
        "    train_purities.append(train_purity)\n",
        "    train_rand_indexes.append(train_rand_index)\n",
        "    test_purities.append(test_purity)\n",
        "    test_rand_indexes.append(test_rand_index)\n",
        "\n",
        "\n",
        "plt.plot(Cs, train_rand_indexes)\n",
        "plt.suptitle('C on Train Rand-Index')\n",
        "plt.show()\n",
        "plt.plot(Cs, train_purities, 'tab:orange')\n",
        "plt.suptitle('C on Train Purity')\n",
        "plt.show()\n",
        "plt.plot(Cs, test_rand_indexes, 'tab:green')\n",
        "plt.suptitle('C on Test Rand-Index')\n",
        "plt.show()\n",
        "plt.plot(Cs, test_purities, 'tab:red')\n",
        "plt.suptitle('C on Test Purity')\n",
        "plt.show()"
      ],
      "metadata": {
        "colab": {
          "base_uri": "https://localhost:8080/",
          "height": 1000
        },
        "id": "HRdeaO5RZ3ca",
        "outputId": "3183e7ba-7daa-4a3b-abaa-9281120b4db7"
      },
      "execution_count": null,
      "outputs": [
        {
          "output_type": "stream",
          "name": "stdout",
          "text": [
            "1\n",
            "Train Data Accuracy : 67.05%\n",
            "Train Data Rand-Index : 11.33%\n",
            "Test Data Accuracy : 66.29%\n",
            "Test Data Rand-Index : 10.39%\n",
            "Time Taken(s):  29.792577505111694\n",
            "\n",
            "10\n",
            "Train Data Accuracy : 67.57%\n",
            "Train Data Rand-Index : 12.09%\n",
            "Test Data Accuracy : 66.81%\n",
            "Test Data Rand-Index : 11.1%\n",
            "Time Taken(s):  27.808953762054443\n",
            "\n",
            "100\n",
            "Train Data Accuracy : 76.92%\n",
            "Train Data Rand-Index : 28.81%\n",
            "Test Data Accuracy : 76.49%\n",
            "Test Data Rand-Index : 27.94%\n",
            "Time Taken(s):  25.633058309555054\n",
            "\n",
            "1000\n",
            "Train Data Accuracy : 86.16%\n",
            "Train Data Rand-Index : 52.26%\n",
            "Test Data Accuracy : 85.62%\n",
            "Test Data Rand-Index : 50.71%\n",
            "Time Taken(s):  20.795956134796143\n",
            "\n",
            "10000\n",
            "Train Data Accuracy : 88.25%\n",
            "Train Data Rand-Index : 58.49%\n",
            "Test Data Accuracy : 87.33%\n",
            "Test Data Rand-Index : 55.71%\n",
            "Time Taken(s):  21.60995888710022\n",
            "\n"
          ]
        },
        {
          "output_type": "display_data",
          "data": {
            "text/plain": [
              "<Figure size 432x288 with 1 Axes>"
            ],
            "image/png": "[encoded data removed]"
          },
          "metadata": {
            "needs_background": "light"
          }
        },
        {
          "output_type": "display_data",
          "data": {
            "text/plain": [
              "<Figure size 432x288 with 1 Axes>"
            ],
            "image/png": "[encoded data removed]"
          },
          "metadata": {
            "needs_background": "light"
          }
        },
        {
          "output_type": "display_data",
          "data": {
            "text/plain": [
              "<Figure size 432x288 with 1 Axes>"
            ],
            "image/png": "[encoded data removed]"
          },
          "metadata": {
            "needs_background": "light"
          }
        },
        {
          "output_type": "display_data",
          "data": {
            "text/plain": [
              "<Figure size 432x288 with 1 Axes>"
            ],
            "image/png": "[encoded data removed]"
          },
          "metadata": {
            "needs_background": "light"
          }
        }
      ]
    },
    {
      "cell_type": "markdown",
      "source": [
        "For the linear kernel, best value for parameter C was 10000. <br>\n",
        "But this value will be different for the rbf kernel since. <br>\n",
        "As you can see in the plots the best value for value when using rbf kernel, is 5 and it is the value we will use in the following codes."
      ],
      "metadata": {
        "id": "VFmdFxfjaFXX"
      }
    },
    {
      "cell_type": "markdown",
      "source": [
        "# Conclusion\n",
        "After all the tests on different kernels and paramater changing, we saw that on 10% of the whole dataset which is selected randomly, the rbf or gaussian kernel has the best performance. <br>\n",
        "And for the rbf kernel, `c=10000.0` and `gamma='scale'`, which is the default value, has better accuracy. <br>\n",
        "Also we saw that the scores for both one-vs-one and one-vs-all techniques was the same. But we choose one-vs-all because it was the default value and prefered by `sklearn` community. <br>\n",
        "So now we expect that if we set these parameters to the whole dataset, we would have a high accuracy. <br>"
      ],
      "metadata": {
        "id": "3JzhPE2771XZ"
      }
    },
    {
      "cell_type": "code",
      "source": [
        "linear_kerner_svm = SVMTest(SVC(kernel='rbf', C=10000), train_data_features, train_data_labels)\n",
        "linear_kerner_svm.test_svm(test_data_features, test_data_labels)"
      ],
      "metadata": {
        "id": "LAUd5Ilc76UD",
        "colab": {
          "base_uri": "https://localhost:8080/"
        },
        "outputId": "14d8969e-660b-4ef9-8c31-a80e35935600"
      },
      "execution_count": null,
      "outputs": [
        {
          "output_type": "stream",
          "name": "stdout",
          "text": [
            "Train Data Purity : 88.47%\n",
            "Train Data Rand-Index : 59.16%\n",
            "Test Data Purity : 88.1%\n",
            "Test Data Rand-Index : 58.06%\n",
            "Time Taken(s):  1271.1785180568695\n"
          ]
        },
        {
          "output_type": "execute_result",
          "data": {
            "text/plain": [
              "(0.8846723898983677, 0.591612833284695, 0.8810440406529104, 0.580555741736568)"
            ]
          },
          "metadata": {},
          "execution_count": 34
        }
      ]
    }
  ]
}